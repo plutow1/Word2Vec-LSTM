{
 "cells": [
  {
   "cell_type": "code",
   "execution_count": 1,
   "metadata": {},
   "outputs": [
    {
     "name": "stderr",
     "output_type": "stream",
     "text": [
      "C:\\Users\\lambdal\\Anaconda3\\lib\\site-packages\\sklearn\\cross_validation.py:41: DeprecationWarning: This module was deprecated in version 0.18 in favor of the model_selection module into which all the refactored classes and functions are moved. Also note that the interface of the new CV iterators are different from that of this module. This module will be removed in 0.20.\n",
      "  \"This module will be removed in 0.20.\", DeprecationWarning)\n",
      "C:\\Users\\lambdal\\Anaconda3\\lib\\site-packages\\gensim\\utils.py:1197: UserWarning: detected Windows; aliasing chunkize to chunkize_serial\n",
      "  warnings.warn(\"detected Windows; aliasing chunkize to chunkize_serial\")\n",
      "Using TensorFlow backend.\n"
     ]
    }
   ],
   "source": [
    "import pandas as pd\n",
    "import numpy as np\n",
    "import jieba\n",
    "import yaml\n",
    "import matplotlib\n",
    "import matplotlib.pyplot as plt\n",
    "import time\n",
    "\n",
    "from sklearn.cross_validation import train_test_split  \n",
    "from gensim.models.word2vec import Word2Vec\n",
    "from gensim.corpora.dictionary import Dictionary\n",
    "from keras.preprocessing import sequence\n",
    "from keras.models import model_from_yaml\n",
    "from keras.optimizers import SGD, RMSprop, Adagrad\n",
    "# from keras.utils import np_utils\n",
    "from keras.models import Sequential\n",
    "from keras.layers.core import Dense, Dropout, Activation\n",
    "from keras.layers.embeddings import Embedding\n",
    "from keras.layers.recurrent import LSTM, GRU\n",
    "\n",
    "from __future__ import absolute_import #导入3.x的特征函数\n",
    "from __future__ import print_function"
   ]
  },
  {
   "cell_type": "code",
   "execution_count": 2,
   "metadata": {
    "collapsed": true
   },
   "outputs": [],
   "source": [
    "# 加载训练文件并分词\n",
    "#加载训练文件\n",
    "def loadfile():\n",
    "    neg=pd.read_excel('./data/neg.xls',header=None,index=None)\n",
    "    pos=pd.read_excel('./data/pos.xls',header=None,index=None)\n",
    "\n",
    "    pos['mark']=1\n",
    "    neg['mark']=0 #给训练语料贴上标签\n",
    "    pn=pd.concat([pos,neg],ignore_index=True) #合并语料\n",
    "    neglen=len(neg)\n",
    "    poslen=len(pos) #计算语料数目\n",
    "    \n",
    "    cw = lambda x: list(jieba.cut(x)) #定义分词函数\n",
    "    pn['words'] = pn[0].apply(cw)\n",
    "    \n",
    "    comment = pd.read_excel('./data/sum.xls') #读入评论内容\n",
    "    comment = comment[comment['rateContent'].notnull()] #仅读取非空评论\n",
    "    comment['words'] = comment['rateContent'].apply(cw) #评论分词 \n",
    "\n",
    "    d2v_train = pd.concat([pn['words'], comment['words']], ignore_index = True) \n",
    "    \n",
    "    \n",
    "    return pn['words'],pn['mark']\n",
    "#     return d2v_train\n",
    "    \n",
    "    "
   ]
  },
  {
   "cell_type": "code",
   "execution_count": 3,
   "metadata": {
    "collapsed": true
   },
   "outputs": [],
   "source": [
    "# 创建词语字典，并返回每个词语的索引，词向量，以及每个句子所对应的词语索引\n",
    "def create_dictionaries(model=None, combined=None):\n",
    "    ''' Function does are number of Jobs:\n",
    "        1- Creates a word to index mapping\n",
    "        2- Creates a word to vector mapping\n",
    "        3- Transforms the Training and Testing Dictionaries\n",
    "\n",
    "    '''\n",
    "    if (combined is not None) and (model is not None):\n",
    "        gensim_dict = Dictionary()\n",
    "        gensim_dict.doc2bow(model.wv.vocab.keys(), allow_update=True)\n",
    "        w2indx = {v: k+1 for k, v in gensim_dict.items()}#所有频数超过10的词语的索引\n",
    "        w2vec = {word: model[word] for word in w2indx.keys()}#所有频数超过10的词语的词向量\n",
    "\n",
    "        def parse_dataset(combined):\n",
    "            ''' Words become integers\n",
    "            '''\n",
    "            data=[]\n",
    "            for sentence in combined:\n",
    "                new_txt = []\n",
    "                for word in sentence:\n",
    "                    try:\n",
    "                        new_txt.append(w2indx[word])\n",
    "                    except:\n",
    "                        new_txt.append(0)\n",
    "                data.append(new_txt)\n",
    "            return data\n",
    "        \n",
    "        combined = parse_dataset(combined)\n",
    "        maxlen = 64\n",
    "        combined = sequence.pad_sequences(combined, maxlen=maxlen)#填充序列，对于长于maxlen的序列进行截断，短语maxlen的序列在后面进行填充0\n",
    "        return w2indx, w2vec,combined\n",
    "    else:\n",
    "        print('No data provided...')\n",
    "\n",
    "\n",
    "#创建词语字典，并返回每个词语的索引，词向量，以及每个句子所对应的词语索引\n",
    "def word2vec_train(combined):\n",
    "\n",
    "    vocab_dim = 300\n",
    "    n_exposures = 10\n",
    "    \n",
    "    model = Word2Vec(sentences=combined, size=vocab_dim, min_count=n_exposures)\n",
    "#     model.build_vocab(combined)\n",
    "#     model.train(combined)\n",
    "    model.save('./lstm_data/Word2vec_model.pkl')\n",
    "    index_dict, word_vectors,combined = create_dictionaries(model=model,combined=combined)\n",
    "    return   index_dict, word_vectors,combined"
   ]
  },
  {
   "cell_type": "code",
   "execution_count": 4,
   "metadata": {
    "collapsed": true
   },
   "outputs": [],
   "source": [
    "# 训练网络，并保存模型，其中LSTM的实现采用Python中的keras库\n",
    "\n",
    "def get_data(index_dict,word_vectors,combined,y):\n",
    "    vocab_dim = 300\n",
    "    n_symbols = len(index_dict) + 1  # 所有单词的索引数，频数小于10的词语索引为0，所以加1\n",
    "    embedding_weights = np.zeros((n_symbols, vocab_dim))#索引为0的词语，词向量全为0\n",
    "    for word, index in index_dict.items():#从索引为1的词语开始，对每个词语对应其词向量\n",
    "        embedding_weights[index, :] = word_vectors[word]\n",
    "    x_train, x_test, y_train, y_test = train_test_split(combined, y, test_size=0.2)\n",
    "\n",
    "    return n_symbols,embedding_weights,x_train,y_train,x_test,y_test\n",
    "\n",
    "\n",
    "##定义网络结构\n",
    "def train_lstm(n_symbols,embedding_weights,x_train,y_train,x_test,y_test):\n",
    "    \n",
    "    print('Defining a Simple Keras Model...')\n",
    "    \n",
    "    model = Sequential()  # or Graph or whatever\n",
    "    model.add(Embedding(input_dim=n_symbols,\n",
    "                        output_dim=300,    \n",
    "                        mask_zero=True,\n",
    "                        weights=[embedding_weights],\n",
    "                        input_length=64))  # 当输入序列的长度固定时，该值为其长度,输入序列维度。\n",
    "    model.add(LSTM(128, input_dim=300, activation='sigmoid', inner_activation='hard_sigmoid'))\n",
    "    model.add(Dropout(0.5))\n",
    "    model.add(Dense(1))\n",
    "    model.add(Activation('sigmoid'))\n",
    "\n",
    "    print('Compiling the Model...')\n",
    "    model.compile(loss='binary_crossentropy',\n",
    "                  optimizer='adam',metrics=['accuracy'])\n",
    "\n",
    "    print(\"Train...\")\n",
    "    model.fit(x_train, y_train, batch_size=16, nb_epoch=10,verbose=1, validation_data=(x_test, y_test))\n",
    "\n",
    "    print(\"Evaluate...\")\n",
    "    score = model.evaluate(x_test, y_test,\n",
    "                                batch_size=16)\n",
    "\n",
    "    yaml_string = model.to_yaml()\n",
    "    with open('./lstm_data/lstm.yml', 'w') as outfile:\n",
    "        outfile.write( yaml.dump(yaml_string, default_flow_style=True) )\n",
    "    model.save_weights('./lstm_data/lstm.h5')\n",
    "    print('Test score:', score)\n",
    "\n",
    "\n"
   ]
  },
  {
   "cell_type": "code",
   "execution_count": 5,
   "metadata": {
    "collapsed": true
   },
   "outputs": [],
   "source": [
    "\n",
    "#训练模型，并保存\n",
    "def train():\n",
    "    print('Loading Data...')\n",
    "    comment, y =loadfile()\n",
    "    comment = comment[5000:15000]\n",
    "    y = y[5000:15000]\n",
    "    \n",
    "    print(len(comment),len(y))\n",
    "    # print('Tokenising...')\n",
    "    # comment = tokenizer(comment)\n",
    "    print('Training a Word2vec model...')\n",
    "    index_dict, word_vectors,comment = word2vec_train(comment)\n",
    "    \n",
    "    print('Setting up Arrays for Keras Embedding Layer...')\n",
    "    n_symbols,embedding_weights,x_train,y_train,x_test,y_test=get_data(index_dict, word_vectors,comment,y)\n",
    "    print(x_train.shape,y_train.shape)\n",
    "    \n",
    "    train_lstm(n_symbols,embedding_weights,x_train,y_train,x_test,y_test)"
   ]
  },
  {
   "cell_type": "code",
   "execution_count": 6,
   "metadata": {
    "collapsed": true
   },
   "outputs": [],
   "source": [
    "def predict(model, test):\n",
    "    label = model.predict(test)\n",
    "    \n",
    "    s = []\n",
    "    for item in label:\n",
    "        if item>=0.5:\n",
    "            s.append(1)\n",
    "        else :\n",
    "            s.append(0)\n",
    "    \n",
    "    import matplotlib\n",
    "    import matplotlib.pyplot as plt\n",
    "    plt.hist(s, bins=np.arange(0,1.2,0.25))\n",
    "    plt.show()\n",
    "\n",
    "    return label"
   ]
  },
  {
   "cell_type": "code",
   "execution_count": 7,
   "metadata": {
    "collapsed": true
   },
   "outputs": [],
   "source": [
    "def main():\n",
    "    train()\n",
    "    \n",
    "    with open('./lstm_data/lstm.yml', 'r') as outfile:\n",
    "         #导入  \n",
    "        yaml_string = yaml.load(outfile) \n",
    "    \n",
    "\n",
    "    model = model_from_yaml(yaml_string)\n",
    "    model.load_weights('./lstm_data/lstm.h5', by_name=False)\n",
    "\n",
    "    cw = lambda x: list(jieba.cut(x)) #定义分词函数\n",
    "\n",
    "    comment = pd.read_excel('./data/sum.xls') #读入评论内容\n",
    "    comment = comment[comment['rateContent'].notnull()] #仅读取非空评论\n",
    "    comment['words'] = comment['rateContent'].apply(cw) #评论分词 \n",
    "    data = comment['words']\n",
    "\n",
    "    index_dict, word_vectors,comment = word2vec_train(data)\n",
    "    label = predict(model, comment)"
   ]
  },
  {
   "cell_type": "code",
   "execution_count": 8,
   "metadata": {},
   "outputs": [
    {
     "name": "stdout",
     "output_type": "stream",
     "text": [
      "Loading Data...\n"
     ]
    },
    {
     "name": "stderr",
     "output_type": "stream",
     "text": [
      "Building prefix dict from the default dictionary ...\n",
      "Loading model from cache C:\\Users\\lambdal\\AppData\\Local\\Temp\\jieba.cache\n",
      "Loading model cost 1.060 seconds.\n",
      "Prefix dict has been built succesfully.\n"
     ]
    },
    {
     "name": "stdout",
     "output_type": "stream",
     "text": [
      "10000 10000\n",
      "Training a Word2vec model...\n"
     ]
    },
    {
     "name": "stderr",
     "output_type": "stream",
     "text": [
      "C:\\Users\\lambdal\\Anaconda3\\lib\\site-packages\\ipykernel_launcher.py:13: DeprecationWarning: Call to deprecated `__getitem__` (Method will be removed in 4.0.0, use self.wv.__getitem__() instead).\n",
      "  del sys.path[0]\n"
     ]
    },
    {
     "name": "stdout",
     "output_type": "stream",
     "text": [
      "Setting up Arrays for Keras Embedding Layer...\n",
      "(8000, 64) (8000,)\n",
      "Defining a Simple Keras Model...\n"
     ]
    },
    {
     "name": "stderr",
     "output_type": "stream",
     "text": [
      "C:\\Users\\lambdal\\Anaconda3\\lib\\site-packages\\ipykernel_launcher.py:25: UserWarning: The `input_dim` and `input_length` arguments in recurrent layers are deprecated. Use `input_shape` instead.\n",
      "C:\\Users\\lambdal\\Anaconda3\\lib\\site-packages\\ipykernel_launcher.py:25: UserWarning: Update your `LSTM` call to the Keras 2 API: `LSTM(128, activation=\"sigmoid\", input_shape=(None, 300..., recurrent_activation=\"hard_sigmoid\")`\n"
     ]
    },
    {
     "name": "stdout",
     "output_type": "stream",
     "text": [
      "Compiling the Model...\n",
      "Train...\n"
     ]
    },
    {
     "name": "stderr",
     "output_type": "stream",
     "text": [
      "C:\\Users\\lambdal\\Anaconda3\\lib\\site-packages\\keras\\models.py:848: UserWarning: The `nb_epoch` argument in `fit` has been renamed `epochs`.\n",
      "  warnings.warn('The `nb_epoch` argument in `fit` '\n"
     ]
    },
    {
     "name": "stdout",
     "output_type": "stream",
     "text": [
      "Train on 8000 samples, validate on 2000 samples\n",
      "Epoch 1/10\n",
      "8000/8000 [==============================] - 85s - loss: 0.3320 - acc: 0.8483 - val_loss: 0.1204 - val_acc: 0.9600\n",
      "Epoch 2/10\n",
      "8000/8000 [==============================] - 85s - loss: 0.0812 - acc: 0.9726 - val_loss: 0.1020 - val_acc: 0.9600\n",
      "Epoch 3/10\n",
      "8000/8000 [==============================] - 85s - loss: 0.0382 - acc: 0.9881 - val_loss: 0.2126 - val_acc: 0.9410\n",
      "Epoch 4/10\n",
      "8000/8000 [==============================] - 155s - loss: 0.0274 - acc: 0.9912 - val_loss: 0.0977 - val_acc: 0.9700\n",
      "Epoch 5/10\n",
      "8000/8000 [==============================] - 85s - loss: 0.0134 - acc: 0.9959 - val_loss: 0.1213 - val_acc: 0.9700\n",
      "Epoch 6/10\n",
      "8000/8000 [==============================] - 165s - loss: 0.0074 - acc: 0.9984 - val_loss: 0.1379 - val_acc: 0.9715\n",
      "Epoch 7/10\n",
      "8000/8000 [==============================] - 86s - loss: 0.0089 - acc: 0.9979 - val_loss: 0.1204 - val_acc: 0.9720\n",
      "Epoch 8/10\n",
      "8000/8000 [==============================] - 172s - loss: 0.0083 - acc: 0.9981 - val_loss: 0.3742 - val_acc: 0.9370\n",
      "Epoch 9/10\n",
      "8000/8000 [==============================] - 99s - loss: 0.0120 - acc: 0.9969 - val_loss: 0.1449 - val_acc: 0.9735\n",
      "Epoch 10/10\n",
      "8000/8000 [==============================] - 163s - loss: 0.0062 - acc: 0.9982 - val_loss: 0.1720 - val_acc: 0.9715\n",
      "Evaluate...\n",
      "2000/2000 [==============================] - 6s     \n",
      "Test score: [0.1720459833805362, 0.97150000000000003]\n"
     ]
    },
    {
     "data": {
      "image/png": "[encoded data removed]",
      "text/plain": [
       "<matplotlib.figure.Figure at 0x17cb68f4128>"
      ]
     },
     "metadata": {},
     "output_type": "display_data"
    },
    {
     "name": "stdout",
     "output_type": "stream",
     "text": [
      "Wall time: 20min 50s\n"
     ]
    }
   ],
   "source": [
    "%%time\n",
    "# 字典长度为3845\n",
    "if __name__ == \"__main__\":\n",
    "    main()\n"
   ]
  },
  {
   "cell_type": "code",
   "execution_count": null,
   "metadata": {
    "collapsed": true
   },
   "outputs": [],
   "source": []
  }
 ],
 "metadata": {
  "kernelspec": {
   "display_name": "Python 3",
   "language": "python",
   "name": "python3"
  },
  "language_info": {
   "codemirror_mode": {
    "name": "ipython",
    "version": 3
   },
   "file_extension": ".py",
   "mimetype": "text/x-python",
   "name": "python",
   "nbconvert_exporter": "python",
   "pygments_lexer": "ipython3",
   "version": "3.6.2"
  }
 },
 "nbformat": 4,
 "nbformat_minor": 2
}
